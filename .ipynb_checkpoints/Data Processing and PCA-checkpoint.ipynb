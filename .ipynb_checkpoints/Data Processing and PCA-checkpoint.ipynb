{
 "cells": [
  {
   "cell_type": "code",
   "execution_count": 63,
   "metadata": {},
   "outputs": [],
   "source": [
    "import pandas as pd\n",
    "import numpy as np\n",
    "import matplotlib.pyplot as plt\n",
    "import seaborn as sns\n",
    "import re\n",
    "\n",
    "from sklearn.preprocessing import StandardScaler"
   ]
  },
  {
   "cell_type": "markdown",
   "metadata": {},
   "source": [
    "# Read Codebook"
   ]
  },
  {
   "cell_type": "markdown",
   "metadata": {},
   "source": [
    "BCGM7: student context grade 8\n",
    "\n",
    "BSGM7: school context grade 8\n",
    "\n",
    "ACGM7: student context grade 4\n",
    "\n",
    "ASGM7: school context grade 4"
   ]
  },
  {
   "cell_type": "code",
   "execution_count": 37,
   "metadata": {},
   "outputs": [],
   "source": [
    "def read_codebook(file, sheet1, sheet2):\n",
    "    xls = pd.ExcelFile(file)\n",
    "    student = pd.read_excel(xls, sheet1)\n",
    "    school = pd.read_excel(xls, sheet2)\n",
    "    \n",
    "    return student, school"
   ]
  },
  {
   "cell_type": "code",
   "execution_count": 38,
   "metadata": {},
   "outputs": [],
   "source": [
    "stu_con_8, sch_con_8 = read_codebook('Grade 8/T19_G8_Codebooks/T19_G8_Codebook.xlsx', 'BCGM7', 'BSGM7')"
   ]
  },
  {
   "cell_type": "code",
   "execution_count": 39,
   "metadata": {},
   "outputs": [],
   "source": [
    "stu_con_4, sch_con_4 = read_codebook('Grade 4/T19_G4_Codebooks/T19_G4_Codebook.xlsx', 'ACGM7', 'ASGM7')"
   ]
  },
  {
   "cell_type": "markdown",
   "metadata": {},
   "source": [
    "# Read Main Data"
   ]
  },
  {
   "cell_type": "code",
   "execution_count": 64,
   "metadata": {},
   "outputs": [],
   "source": [
    "df = pd.read_sas('Grade 8/T19_G8_SAS Data/bsgengm7.sas7bdat')"
   ]
  },
  {
   "cell_type": "code",
   "execution_count": 65,
   "metadata": {},
   "outputs": [
    {
     "data": {
      "text/html": [
       "<div>\n",
       "<style scoped>\n",
       "    .dataframe tbody tr th:only-of-type {\n",
       "        vertical-align: middle;\n",
       "    }\n",
       "\n",
       "    .dataframe tbody tr th {\n",
       "        vertical-align: top;\n",
       "    }\n",
       "\n",
       "    .dataframe thead th {\n",
       "        text-align: right;\n",
       "    }\n",
       "</style>\n",
       "<table border=\"1\" class=\"dataframe\">\n",
       "  <thead>\n",
       "    <tr style=\"text-align: right;\">\n",
       "      <th></th>\n",
       "      <th>subject_ID</th>\n",
       "      <th>subject</th>\n",
       "      <th>subject_label</th>\n",
       "    </tr>\n",
       "  </thead>\n",
       "  <tbody>\n",
       "    <tr>\n",
       "      <th>0</th>\n",
       "      <td>BSBM16A</td>\n",
       "      <td>math interest</td>\n",
       "      <td>ENJOY LEARNING MATHEMATICS</td>\n",
       "    </tr>\n",
       "    <tr>\n",
       "      <th>1</th>\n",
       "      <td>BSBM16B</td>\n",
       "      <td>math interest</td>\n",
       "      <td>WISH HAVE NOT TO STUDY MATH</td>\n",
       "    </tr>\n",
       "    <tr>\n",
       "      <th>2</th>\n",
       "      <td>BSBM16C</td>\n",
       "      <td>math interest</td>\n",
       "      <td>MATH IS BORING</td>\n",
       "    </tr>\n",
       "    <tr>\n",
       "      <th>3</th>\n",
       "      <td>BSBM16D</td>\n",
       "      <td>math interest</td>\n",
       "      <td>LEARN INTERESTING THINGS</td>\n",
       "    </tr>\n",
       "    <tr>\n",
       "      <th>4</th>\n",
       "      <td>BSBM16E</td>\n",
       "      <td>math interest</td>\n",
       "      <td>LIKE MATHEMATICS</td>\n",
       "    </tr>\n",
       "  </tbody>\n",
       "</table>\n",
       "</div>"
      ],
      "text/plain": [
       "  subject_ID        subject                subject_label\n",
       "0    BSBM16A  math interest   ENJOY LEARNING MATHEMATICS\n",
       "1    BSBM16B  math interest  WISH HAVE NOT TO STUDY MATH\n",
       "2    BSBM16C  math interest               MATH IS BORING\n",
       "3    BSBM16D  math interest     LEARN INTERESTING THINGS\n",
       "4    BSBM16E  math interest             LIKE MATHEMATICS"
      ]
     },
     "execution_count": 65,
     "metadata": {},
     "output_type": "execute_result"
    }
   ],
   "source": [
    "##### NEW #####\n",
    "\n",
    "#Specify columns for PCA\n",
    "math_interest_cols = [col for col in df.columns if 'M16' in col]\n",
    "math_perception_cols = [col for col in df.columns if 'M19' in col]\n",
    "math_benefit_cols = [col for col in df.columns if 'M20' in col]\n",
    "science_interest_cols = [col for col in df.columns if 'S22' in col]\n",
    "science_perception_cols = [col for col in df.columns if 'S24' in col]\n",
    "science_benefit_cols = [col for col in df.columns if 'S25' in col]\n",
    "\n",
    "pca_columns = math_interest_cols + math_perception_cols + math_benefit_cols + \\\n",
    "              science_interest_cols + science_perception_cols + science_benefit_cols\n",
    "\n",
    "# Add school subject \n",
    "pca_subject = len(math_interest_cols)*['math interest'] + ['math perception']*len(math_perception_cols) + \\\n",
    "            len(math_benefit_cols)*['math benefit'] + len(science_interest_cols)*['science interest'] + \\\n",
    "            len(science_perception_cols)*['science perception'] + len(science_benefit_cols)*['science benefit']\n",
    "\n",
    "pca_subject = pd.DataFrame(np.stack([pca_columns, pca_subject], axis=1), columns=['subject_ID', 'subject'])\n",
    "\n",
    "pca_labels = pd.read_excel('Grade 8/T19_G8_Codebooks/T19_G8_Codebook.xlsx', 'BSGM7',\n",
    "                            usecols=[0,1], names=['subject_ID','subject_label'], skiprows=range(5), skipfooter=2)\n",
    "            \n",
    "pca = pd.merge(pca_subject, pca_labels, how='left')\n",
    "pca['subject_label'] = pca['subject_label'].replace('[A-Z]*[\\\\\\\\].*[\\\\\\\\]', '', regex=True)\n",
    "\n",
    "pca.head()"
   ]
  },
  {
   "cell_type": "code",
   "execution_count": 66,
   "metadata": {},
   "outputs": [],
   "source": [
    "df = df.dropna(axis=0, subset=pca_columns, how='any')"
   ]
  },
  {
   "cell_type": "code",
   "execution_count": 35,
   "metadata": {},
   "outputs": [],
   "source": [
    "# Math scores are in here\n",
    "# df['BSMMAT01']"
   ]
  },
  {
   "cell_type": "code",
   "execution_count": 36,
   "metadata": {},
   "outputs": [],
   "source": [
    "# Science scores are in here\n",
    "# df['BSSSCI01']"
   ]
  },
  {
   "cell_type": "code",
   "execution_count": 40,
   "metadata": {},
   "outputs": [],
   "source": [
    "# stu_con_4.T"
   ]
  },
  {
   "cell_type": "markdown",
   "metadata": {},
   "source": [
    "# Target features"
   ]
  },
  {
   "cell_type": "markdown",
   "metadata": {},
   "source": [
    "### A: 4th grade, B: 8th grade, the rest of the variable names are identical"
   ]
  },
  {
   "cell_type": "markdown",
   "metadata": {},
   "source": [
    "### Identifications: school ID, student ID, country ID (need to match names and country codes)"
   ]
  },
  {
   "cell_type": "markdown",
   "metadata": {},
   "source": [
    "### In school dfs\n",
    "\n",
    "    ACBG14E\tGEN\\SCH CHARACTER\\PARENTAL INVOLVEMENT\n",
    "    ACBG14F\tGEN\\SCH CHARACTER\\PARENTAL COMMITMENT\n",
    "    ACBG14G\tGEN\\SCH CHARACTER\\PARENTAL EXPECTATIONS\n",
    "    ACBG14H\tGEN\\SCH CHARACTER\\PARENTAL SUPPORT\n",
    "\n",
    "    ACDGSBC    School Composition by Socioeconomic Background\n",
    "    ACDGTIHY   Total Instructional Hours per Year\n",
    "\n",
    "### In student dfs\n",
    "\n",
    "**Students' general information**\n",
    "\n",
    "    BSBG01     GEN\\SEX OF STUDENT\n",
    "    BSBG03     GEN\\OFTEN SPEAK <LANG OF TEST> AT HOME\n",
    "    BSBG04     GEN\\AMOUNT OF BOOKS IN YOUR HOME\n",
    "    BSBG05A\tGEN\\HOME POSSESS\\COMPUTER TABLET\n",
    "    BSBG05B\tGEN\\HOME POSSESS\\STUDY DESK\n",
    "    BSBG05C\tGEN\\HOME POSSESS\\OWN ROOM\n",
    "    BSBG05D\tGEN\\HOME POSSESS\\INTERNET CONNECTION\n",
    "\n",
    "**Math interest**\n",
    "\n",
    "    BSBM16A\tMATH\\AGREE\\ENJOY LEARNING MATHEMATICS\n",
    "    BSBM16B\tMATH\\AGREE\\WISH HAVE NOT TO STUDY MATH\n",
    "    BSBM16C\tMATH\\AGREE\\MATH IS BORING\n",
    "    BSBM16D\tMATH\\AGREE\\LEARN INTERESTING THINGS\n",
    "    BSBM16E\tMATH\\AGREE\\LIKE MATHEMATICS\n",
    "    BSBM16F\tMATH\\AGREE\\LIKE NUMBERS\n",
    "    BSBM16G\tMATH\\AGREE\\LIKE MATH PROBLEMS\n",
    "    BSBM16H\tMATH\\AGREE\\LOOK FORWARD TO MATH CLASS\n",
    "    BSBM16I\tMATH\\AGREE\\FAVORITE SUBJECT\n",
    "\n",
    "**Math perception**\n",
    "\n",
    "    BSBM19A\tMATH\\AGREE\\USUALLY DO WELL IN MATH\n",
    "    BSBM19B\tMATH\\AGREE\\MATHEMATICS IS MORE DIFFICULT\n",
    "    BSBM19C\tMATH\\AGREE\\MATHEMATICS NOT MY STRENGTH\n",
    "    BSBM19D\tMATH\\AGREE\\LEARN QUICKLY IN MATHEMATICS\n",
    "    BSBM19E\tMATH\\AGREE\\MAT MAKES NERVOUS\n",
    "    BSBM19F\tMATH\\AGREE\\GOOD AT WORKING OUT PROBLEMS\n",
    "    BSBM19G\tMATH\\AGREE\\I AM GOOD AT MATHEMATICS\n",
    "    BSBM19H\tMATH\\AGREE\\MATHEMATICS HARDER FOR ME\n",
    "    BSBM19I\tMATH\\AGREE\\MAT MAKES CONFUSED\n",
    "    \n",
    "**Math benefit**\n",
    "\n",
    "    BSBM20A\tMATH\\AGREE\\MATHEMATICS WILL HELP ME\n",
    "    BSBM20B\tMATH\\AGREE\\NEED MAT TO LEARN OTHER THINGS\n",
    "    BSBM20C\tMATH\\AGREE\\NEED MATH TO GET INTO <UNI>\n",
    "    BSBM20D\tMATH\\AGREE\\NEED MAT TO GET THE JOB I WANT\n",
    "    BSBM20E\tMATH\\AGREE\\JOB INVOLVING MATHEMATICS\n",
    "    BSBM20F\tMATH\\AGREE\\GET AHEAD IN THE WORLD\n",
    "    BSBM20G\tMATH\\AGREE\\MORE JOB OPPORTUNITIES\n",
    "    BSBM20H\tMATH\\AGREE\\PARENTS THINK MATH IMPORTANT\n",
    "    BSBM20I\tMATH\\AGREE\\IMPORTANT TO DO WELL IN MATH\n",
    "\n",
    "**Science interest**\n",
    "\n",
    "    BSBS22A\tSCI\\AGREE\\ENJOY LEARNING SCIENCE\n",
    "    BSBS22B\tSCI\\AGREE\\WISH HAVE NOT TO STUDY SCIENCE\n",
    "    BSBS22C\tSCI\\AGREE\\SCIENCE IS BORING\n",
    "    BSBS22D\tSCI\\AGREE\\LEARN INTERESTING THINGS\n",
    "    BSBS22E\tSCI\\AGREE\\LIKE SCIENCE\n",
    "    BSBS22F\tSCI\\AGREE\\LOOK FORWARD TO LEARN SCI\n",
    "    BSBS22G\tSCI\\AGREE\\HOW THINGS WORK\n",
    "    BSBS22H\tSCI\\AGREE\\LIKE SCIENCE EXPERIMENTS\n",
    "    BSBS22I\tSCI\\AGREE\\FAVORITE SUBJECT\n",
    "\n",
    "**Science perception**\n",
    "\n",
    "    BSBS24A\tSCI\\AGREE\\USUALLY DO WELL IN SCIENCE\n",
    "    BSBS24B\tSCI\\AGREE\\SCIENCE IS MORE DIFFICULT\n",
    "    BSBS24C\tSCI\\AGREE\\SCIENCE NOT MY STRENGTH\n",
    "    BSBS24D\tSCI\\AGREE\\LEARN QUICKLY IN SCIENCE\n",
    "    BSBS24E\tSCI\\AGREE\\GOOD AT WORKING OUT PROBLEMS\n",
    "    BSBS24F\tSCI\\AGREE\\I AM GOOD AT SCIENCE\n",
    "    BSBS24G\tSCI\\AGREE\\SCIENCE IS HARDER FOR ME\n",
    "    BSBS24H\tSCI\\AGREE\\SCI MAKES CONFUSED\n",
    "    \n",
    "**Science benefit**\n",
    "\n",
    "    BSBS25A\tSCI\\AGREE\\SCIENCE WILL HELP ME\n",
    "    BSBS25B\tSCI\\AGREE\\NEED SCI TO LEARN OTHER THINGS\n",
    "    BSBS25C\tSCI\\AGREE\\NEED SCI TO GET INTO <UNI>\n",
    "    BSBS25D\tSCI\\AGREE\\NEED SCI TO GET THE JOB I WANT\n",
    "    BSBS25E\tSCI\\AGREE\\JOB INVOLVING SCIENCE\n",
    "    BSBS25F\tSCI\\AGREE\\GET AHEAD IN THE WORLD\n",
    "    BSBS25G\tSCI\\AGREE\\MORE JOB OPPORTUNITIES\n",
    "    BSBS25H\tSCI\\AGREE\\PARENTS THINK SCI IMPORTANT\n",
    "    BSBS25I\tSCI\\AGREE\\IMPORTANT TO DO WELL IN SCI\n",
    "\n",
    "**Time spent on homework**\n",
    "\n",
    "    BSBM42BA\tMATH\\MINUTES SPENT ON HMWORK\\MAT\n",
    "    BSBB42BB\tBIO\\MINUTES SPENT ON HMWORK\\BIO\n",
    "    BSBE42BC\tEAR\\MINUTES SPENT ON HMWORK\\EAR\n",
    "    BSBC42BD\tCHE\\MINUTES SPENT ON HMWORK\\CHE\n",
    "    BSBP42BE\tPHY\\MINUTES SPENT ON HMWORK\\PHY"
   ]
  },
  {
   "cell_type": "code",
   "execution_count": 67,
   "metadata": {},
   "outputs": [],
   "source": [
    "# Change column names and map values to match with the direction of the responses of the rest\n",
    "# of the values in the same group (change negative questions to positive ones, and reverse the\n",
    "# values of the answers)\n",
    "\n",
    "def map_values(col_name):\n",
    "    df[col_name] = df[col_name].map({1: 4, 2: 3, 3: 3, 4:1})\n",
    "    return df[col_name]"
   ]
  },
  {
   "cell_type": "code",
   "execution_count": 68,
   "metadata": {},
   "outputs": [],
   "source": [
    "# Identify columns to fix\n",
    "cols_to_fix = ['BSBM16B', 'BSBM16C', 'BSBM19B', 'BSBM19C', 'BSBM19E', 'BSBM19H',\n",
    "               'BSBM19I', 'BSBS22B', 'BSBS22C', 'BSBS24B', 'BSBS24C', 'BSBS24G', \n",
    "               'BSBS24H']"
   ]
  },
  {
   "cell_type": "code",
   "execution_count": 69,
   "metadata": {},
   "outputs": [],
   "source": [
    "# Fix columns\n",
    "for col in cols_to_fix:\n",
    "    map_values(col)"
   ]
  },
  {
   "cell_type": "code",
   "execution_count": 70,
   "metadata": {},
   "outputs": [
    {
     "data": {
      "text/html": [
       "<div>\n",
       "<style scoped>\n",
       "    .dataframe tbody tr th:only-of-type {\n",
       "        vertical-align: middle;\n",
       "    }\n",
       "\n",
       "    .dataframe tbody tr th {\n",
       "        vertical-align: top;\n",
       "    }\n",
       "\n",
       "    .dataframe thead th {\n",
       "        text-align: right;\n",
       "    }\n",
       "</style>\n",
       "<table border=\"1\" class=\"dataframe\">\n",
       "  <thead>\n",
       "    <tr style=\"text-align: right;\">\n",
       "      <th></th>\n",
       "      <th>BSBM19A</th>\n",
       "      <th>BSBM19B</th>\n",
       "      <th>BSBM19C</th>\n",
       "      <th>BSBM19D</th>\n",
       "      <th>BSBM19E</th>\n",
       "      <th>BSBM19F</th>\n",
       "      <th>BSBM19G</th>\n",
       "      <th>BSBM19H</th>\n",
       "      <th>BSBM19I</th>\n",
       "    </tr>\n",
       "  </thead>\n",
       "  <tbody>\n",
       "    <tr>\n",
       "      <th>1</th>\n",
       "      <td>3.0</td>\n",
       "      <td>3</td>\n",
       "      <td>3</td>\n",
       "      <td>3.0</td>\n",
       "      <td>3</td>\n",
       "      <td>3.0</td>\n",
       "      <td>3.0</td>\n",
       "      <td>3</td>\n",
       "      <td>3</td>\n",
       "    </tr>\n",
       "    <tr>\n",
       "      <th>2</th>\n",
       "      <td>3.0</td>\n",
       "      <td>3</td>\n",
       "      <td>4</td>\n",
       "      <td>3.0</td>\n",
       "      <td>3</td>\n",
       "      <td>3.0</td>\n",
       "      <td>3.0</td>\n",
       "      <td>4</td>\n",
       "      <td>4</td>\n",
       "    </tr>\n",
       "    <tr>\n",
       "      <th>3</th>\n",
       "      <td>2.0</td>\n",
       "      <td>4</td>\n",
       "      <td>4</td>\n",
       "      <td>2.0</td>\n",
       "      <td>3</td>\n",
       "      <td>2.0</td>\n",
       "      <td>1.0</td>\n",
       "      <td>3</td>\n",
       "      <td>4</td>\n",
       "    </tr>\n",
       "    <tr>\n",
       "      <th>4</th>\n",
       "      <td>2.0</td>\n",
       "      <td>3</td>\n",
       "      <td>4</td>\n",
       "      <td>2.0</td>\n",
       "      <td>3</td>\n",
       "      <td>3.0</td>\n",
       "      <td>1.0</td>\n",
       "      <td>4</td>\n",
       "      <td>4</td>\n",
       "    </tr>\n",
       "    <tr>\n",
       "      <th>6</th>\n",
       "      <td>4.0</td>\n",
       "      <td>3</td>\n",
       "      <td>4</td>\n",
       "      <td>4.0</td>\n",
       "      <td>1</td>\n",
       "      <td>4.0</td>\n",
       "      <td>4.0</td>\n",
       "      <td>4</td>\n",
       "      <td>4</td>\n",
       "    </tr>\n",
       "    <tr>\n",
       "      <th>...</th>\n",
       "      <td>...</td>\n",
       "      <td>...</td>\n",
       "      <td>...</td>\n",
       "      <td>...</td>\n",
       "      <td>...</td>\n",
       "      <td>...</td>\n",
       "      <td>...</td>\n",
       "      <td>...</td>\n",
       "      <td>...</td>\n",
       "    </tr>\n",
       "    <tr>\n",
       "      <th>3356</th>\n",
       "      <td>2.0</td>\n",
       "      <td>3</td>\n",
       "      <td>3</td>\n",
       "      <td>2.0</td>\n",
       "      <td>3</td>\n",
       "      <td>2.0</td>\n",
       "      <td>1.0</td>\n",
       "      <td>3</td>\n",
       "      <td>3</td>\n",
       "    </tr>\n",
       "    <tr>\n",
       "      <th>3357</th>\n",
       "      <td>1.0</td>\n",
       "      <td>1</td>\n",
       "      <td>1</td>\n",
       "      <td>1.0</td>\n",
       "      <td>1</td>\n",
       "      <td>1.0</td>\n",
       "      <td>2.0</td>\n",
       "      <td>1</td>\n",
       "      <td>3</td>\n",
       "    </tr>\n",
       "    <tr>\n",
       "      <th>3362</th>\n",
       "      <td>2.0</td>\n",
       "      <td>4</td>\n",
       "      <td>3</td>\n",
       "      <td>3.0</td>\n",
       "      <td>1</td>\n",
       "      <td>2.0</td>\n",
       "      <td>3.0</td>\n",
       "      <td>1</td>\n",
       "      <td>3</td>\n",
       "    </tr>\n",
       "    <tr>\n",
       "      <th>3363</th>\n",
       "      <td>2.0</td>\n",
       "      <td>3</td>\n",
       "      <td>3</td>\n",
       "      <td>2.0</td>\n",
       "      <td>1</td>\n",
       "      <td>3.0</td>\n",
       "      <td>2.0</td>\n",
       "      <td>3</td>\n",
       "      <td>1</td>\n",
       "    </tr>\n",
       "    <tr>\n",
       "      <th>3364</th>\n",
       "      <td>1.0</td>\n",
       "      <td>1</td>\n",
       "      <td>3</td>\n",
       "      <td>2.0</td>\n",
       "      <td>3</td>\n",
       "      <td>1.0</td>\n",
       "      <td>1.0</td>\n",
       "      <td>3</td>\n",
       "      <td>1</td>\n",
       "    </tr>\n",
       "  </tbody>\n",
       "</table>\n",
       "<p>2409 rows × 9 columns</p>\n",
       "</div>"
      ],
      "text/plain": [
       "      BSBM19A  BSBM19B  BSBM19C  BSBM19D  BSBM19E  BSBM19F  BSBM19G  BSBM19H  \\\n",
       "1         3.0        3        3      3.0        3      3.0      3.0        3   \n",
       "2         3.0        3        4      3.0        3      3.0      3.0        4   \n",
       "3         2.0        4        4      2.0        3      2.0      1.0        3   \n",
       "4         2.0        3        4      2.0        3      3.0      1.0        4   \n",
       "6         4.0        3        4      4.0        1      4.0      4.0        4   \n",
       "...       ...      ...      ...      ...      ...      ...      ...      ...   \n",
       "3356      2.0        3        3      2.0        3      2.0      1.0        3   \n",
       "3357      1.0        1        1      1.0        1      1.0      2.0        1   \n",
       "3362      2.0        4        3      3.0        1      2.0      3.0        1   \n",
       "3363      2.0        3        3      2.0        1      3.0      2.0        3   \n",
       "3364      1.0        1        3      2.0        3      1.0      1.0        3   \n",
       "\n",
       "      BSBM19I  \n",
       "1           3  \n",
       "2           4  \n",
       "3           4  \n",
       "4           4  \n",
       "6           4  \n",
       "...       ...  \n",
       "3356        3  \n",
       "3357        3  \n",
       "3362        3  \n",
       "3363        1  \n",
       "3364        1  \n",
       "\n",
       "[2409 rows x 9 columns]"
      ]
     },
     "execution_count": 70,
     "metadata": {},
     "output_type": "execute_result"
    }
   ],
   "source": [
    "# Categorize columns for math and science for PCA\n",
    "math_interest = df[math_interest_cols]\n",
    "math_perception = df[math_perception_cols]\n",
    "math_benefit = df[math_benefit_cols]\n",
    "science_interest = df[science_interest_cols]\n",
    "science_perception = df[science_perception_cols]\n",
    "science_benefit = df[science_benefit_cols]\n",
    "\n",
    "math_perception"
   ]
  },
  {
   "cell_type": "markdown",
   "metadata": {},
   "source": [
    "# Principal Component Analysis"
   ]
  },
  {
   "cell_type": "code",
   "execution_count": 55,
   "metadata": {},
   "outputs": [],
   "source": [
    "from sklearn.decomposition import PCA"
   ]
  },
  {
   "cell_type": "code",
   "execution_count": 73,
   "metadata": {},
   "outputs": [],
   "source": [
    "def pca_caculation(df):\n",
    "    \n",
    "    #Specify columns for PCA\n",
    "    X = df[df.columns.tolist()]\n",
    "    \n",
    "    #Scale column values\n",
    "    x = StandardScaler().fit_transform(X)\n",
    "    \n",
    "    #PCA caculation\n",
    "    pca = PCA(n_components=1)\n",
    "    principal_components = pca.fit_transform(x)\n",
    "    pca_df = pd.DataFrame(data = principal_components, columns = ['values'])\n",
    "    \n",
    "    #Descriptive statistics\n",
    "    print(pca_df.describe())\n",
    "    \n",
    "    return pca_df"
   ]
  },
  {
   "cell_type": "code",
   "execution_count": 74,
   "metadata": {},
   "outputs": [],
   "source": [
    "X = math_interest[math_interest.columns.tolist()]"
   ]
  },
  {
   "cell_type": "code",
   "execution_count": 75,
   "metadata": {},
   "outputs": [],
   "source": [
    "x = StandardScaler().fit_transform(X)"
   ]
  },
  {
   "cell_type": "code",
   "execution_count": 76,
   "metadata": {},
   "outputs": [
    {
     "data": {
      "text/html": [
       "<div>\n",
       "<style scoped>\n",
       "    .dataframe tbody tr th:only-of-type {\n",
       "        vertical-align: middle;\n",
       "    }\n",
       "\n",
       "    .dataframe tbody tr th {\n",
       "        vertical-align: top;\n",
       "    }\n",
       "\n",
       "    .dataframe thead th {\n",
       "        text-align: right;\n",
       "    }\n",
       "</style>\n",
       "<table border=\"1\" class=\"dataframe\">\n",
       "  <thead>\n",
       "    <tr style=\"text-align: right;\">\n",
       "      <th></th>\n",
       "      <th>math_interest</th>\n",
       "    </tr>\n",
       "  </thead>\n",
       "  <tbody>\n",
       "    <tr>\n",
       "      <th>0</th>\n",
       "      <td>-1.363598</td>\n",
       "    </tr>\n",
       "    <tr>\n",
       "      <th>1</th>\n",
       "      <td>-2.477616</td>\n",
       "    </tr>\n",
       "    <tr>\n",
       "      <th>2</th>\n",
       "      <td>4.129100</td>\n",
       "    </tr>\n",
       "    <tr>\n",
       "      <th>3</th>\n",
       "      <td>-3.176666</td>\n",
       "    </tr>\n",
       "    <tr>\n",
       "      <th>4</th>\n",
       "      <td>-4.503756</td>\n",
       "    </tr>\n",
       "  </tbody>\n",
       "</table>\n",
       "</div>"
      ],
      "text/plain": [
       "   math_interest\n",
       "0      -1.363598\n",
       "1      -2.477616\n",
       "2       4.129100\n",
       "3      -3.176666\n",
       "4      -4.503756"
      ]
     },
     "execution_count": 76,
     "metadata": {},
     "output_type": "execute_result"
    }
   ],
   "source": [
    "pca = PCA(n_components=1)\n",
    "principalComponents = pca.fit_transform(x)\n",
    "principalDf = pd.DataFrame(data = principalComponents, columns = ['math_interest'])\n",
    "principalDf.head()"
   ]
  },
  {
   "cell_type": "code",
   "execution_count": 77,
   "metadata": {},
   "outputs": [
    {
     "data": {
      "text/html": [
       "<div>\n",
       "<style scoped>\n",
       "    .dataframe tbody tr th:only-of-type {\n",
       "        vertical-align: middle;\n",
       "    }\n",
       "\n",
       "    .dataframe tbody tr th {\n",
       "        vertical-align: top;\n",
       "    }\n",
       "\n",
       "    .dataframe thead th {\n",
       "        text-align: right;\n",
       "    }\n",
       "</style>\n",
       "<table border=\"1\" class=\"dataframe\">\n",
       "  <thead>\n",
       "    <tr style=\"text-align: right;\">\n",
       "      <th></th>\n",
       "      <th>BSBM16A</th>\n",
       "      <th>BSBM16B</th>\n",
       "      <th>BSBM16C</th>\n",
       "      <th>BSBM16D</th>\n",
       "      <th>BSBM16E</th>\n",
       "      <th>BSBM16F</th>\n",
       "      <th>BSBM16G</th>\n",
       "      <th>BSBM16H</th>\n",
       "      <th>BSBM16I</th>\n",
       "    </tr>\n",
       "  </thead>\n",
       "  <tbody>\n",
       "    <tr>\n",
       "      <th>1</th>\n",
       "      <td>3.0</td>\n",
       "      <td>3</td>\n",
       "      <td>3</td>\n",
       "      <td>3.0</td>\n",
       "      <td>3.0</td>\n",
       "      <td>3.0</td>\n",
       "      <td>2.0</td>\n",
       "      <td>3.0</td>\n",
       "      <td>4.0</td>\n",
       "    </tr>\n",
       "    <tr>\n",
       "      <th>2</th>\n",
       "      <td>3.0</td>\n",
       "      <td>3</td>\n",
       "      <td>1</td>\n",
       "      <td>3.0</td>\n",
       "      <td>4.0</td>\n",
       "      <td>4.0</td>\n",
       "      <td>4.0</td>\n",
       "      <td>4.0</td>\n",
       "      <td>4.0</td>\n",
       "    </tr>\n",
       "    <tr>\n",
       "      <th>3</th>\n",
       "      <td>1.0</td>\n",
       "      <td>1</td>\n",
       "      <td>3</td>\n",
       "      <td>1.0</td>\n",
       "      <td>1.0</td>\n",
       "      <td>1.0</td>\n",
       "      <td>1.0</td>\n",
       "      <td>1.0</td>\n",
       "      <td>1.0</td>\n",
       "    </tr>\n",
       "    <tr>\n",
       "      <th>4</th>\n",
       "      <td>3.0</td>\n",
       "      <td>3</td>\n",
       "      <td>4</td>\n",
       "      <td>2.0</td>\n",
       "      <td>4.0</td>\n",
       "      <td>4.0</td>\n",
       "      <td>4.0</td>\n",
       "      <td>4.0</td>\n",
       "      <td>4.0</td>\n",
       "    </tr>\n",
       "    <tr>\n",
       "      <th>6</th>\n",
       "      <td>4.0</td>\n",
       "      <td>4</td>\n",
       "      <td>4</td>\n",
       "      <td>4.0</td>\n",
       "      <td>4.0</td>\n",
       "      <td>4.0</td>\n",
       "      <td>4.0</td>\n",
       "      <td>4.0</td>\n",
       "      <td>4.0</td>\n",
       "    </tr>\n",
       "  </tbody>\n",
       "</table>\n",
       "</div>"
      ],
      "text/plain": [
       "   BSBM16A  BSBM16B  BSBM16C  BSBM16D  BSBM16E  BSBM16F  BSBM16G  BSBM16H  \\\n",
       "1      3.0        3        3      3.0      3.0      3.0      2.0      3.0   \n",
       "2      3.0        3        1      3.0      4.0      4.0      4.0      4.0   \n",
       "3      1.0        1        3      1.0      1.0      1.0      1.0      1.0   \n",
       "4      3.0        3        4      2.0      4.0      4.0      4.0      4.0   \n",
       "6      4.0        4        4      4.0      4.0      4.0      4.0      4.0   \n",
       "\n",
       "   BSBM16I  \n",
       "1      4.0  \n",
       "2      4.0  \n",
       "3      1.0  \n",
       "4      4.0  \n",
       "6      4.0  "
      ]
     },
     "execution_count": 77,
     "metadata": {},
     "output_type": "execute_result"
    }
   ],
   "source": [
    "math_interest.head()"
   ]
  },
  {
   "cell_type": "code",
   "execution_count": 78,
   "metadata": {},
   "outputs": [
    {
     "name": "stdout",
     "output_type": "stream",
     "text": [
      "       math_interest\n",
      "count   2.409000e+03\n",
      "mean    8.848602e-18\n",
      "std     2.414178e+00\n",
      "min    -4.503756e+00\n",
      "25%    -1.710530e+00\n",
      "50%     1.845109e-02\n",
      "75%     1.636239e+00\n",
      "max     4.818132e+00\n"
     ]
    }
   ],
   "source": [
    "print(principalDf.describe())"
   ]
  },
  {
   "cell_type": "code",
   "execution_count": 79,
   "metadata": {},
   "outputs": [
    {
     "data": {
      "image/png": "[encoded data removed]",
      "text/plain": [
       "<Figure size 432x288 with 1 Axes>"
      ]
     },
     "metadata": {
      "needs_background": "light"
     },
     "output_type": "display_data"
    }
   ],
   "source": [
    "pca = PCA().fit(X)\n",
    "plt.plot(np.cumsum(pca.explained_variance_ratio_))\n",
    "plt.xlabel('number of components')\n",
    "plt.ylabel('cumulative explained variance')\n",
    "plt.show()"
   ]
  },
  {
   "cell_type": "code",
   "execution_count": null,
   "metadata": {},
   "outputs": [],
   "source": []
  },
  {
   "cell_type": "code",
   "execution_count": null,
   "metadata": {},
   "outputs": [],
   "source": []
  },
  {
   "cell_type": "code",
   "execution_count": null,
   "metadata": {},
   "outputs": [],
   "source": []
  },
  {
   "cell_type": "code",
   "execution_count": null,
   "metadata": {},
   "outputs": [],
   "source": []
  },
  {
   "cell_type": "code",
   "execution_count": null,
   "metadata": {},
   "outputs": [],
   "source": []
  },
  {
   "cell_type": "code",
   "execution_count": null,
   "metadata": {},
   "outputs": [],
   "source": []
  },
  {
   "cell_type": "code",
   "execution_count": null,
   "metadata": {},
   "outputs": [],
   "source": []
  },
  {
   "cell_type": "code",
   "execution_count": null,
   "metadata": {},
   "outputs": [],
   "source": []
  },
  {
   "cell_type": "code",
   "execution_count": null,
   "metadata": {},
   "outputs": [],
   "source": []
  },
  {
   "cell_type": "code",
   "execution_count": null,
   "metadata": {},
   "outputs": [],
   "source": []
  },
  {
   "cell_type": "code",
   "execution_count": null,
   "metadata": {},
   "outputs": [],
   "source": []
  },
  {
   "cell_type": "code",
   "execution_count": null,
   "metadata": {},
   "outputs": [],
   "source": []
  },
  {
   "cell_type": "code",
   "execution_count": null,
   "metadata": {},
   "outputs": [],
   "source": []
  },
  {
   "cell_type": "code",
   "execution_count": null,
   "metadata": {},
   "outputs": [],
   "source": []
  },
  {
   "cell_type": "code",
   "execution_count": null,
   "metadata": {},
   "outputs": [],
   "source": []
  },
  {
   "cell_type": "code",
   "execution_count": null,
   "metadata": {},
   "outputs": [],
   "source": []
  },
  {
   "cell_type": "code",
   "execution_count": null,
   "metadata": {},
   "outputs": [],
   "source": []
  },
  {
   "cell_type": "code",
   "execution_count": null,
   "metadata": {},
   "outputs": [],
   "source": []
  },
  {
   "cell_type": "code",
   "execution_count": null,
   "metadata": {},
   "outputs": [],
   "source": []
  },
  {
   "cell_type": "code",
   "execution_count": null,
   "metadata": {},
   "outputs": [],
   "source": []
  },
  {
   "cell_type": "code",
   "execution_count": null,
   "metadata": {},
   "outputs": [],
   "source": []
  },
  {
   "cell_type": "code",
   "execution_count": null,
   "metadata": {},
   "outputs": [],
   "source": []
  }
 ],
 "metadata": {
  "kernelspec": {
   "display_name": "Python 3",
   "language": "python",
   "name": "python3"
  },
  "language_info": {
   "codemirror_mode": {
    "name": "ipython",
    "version": 3
   },
   "file_extension": ".py",
   "mimetype": "text/x-python",
   "name": "python",
   "nbconvert_exporter": "python",
   "pygments_lexer": "ipython3",
   "version": "3.8.2"
  }
 },
 "nbformat": 4,
 "nbformat_minor": 4
}
